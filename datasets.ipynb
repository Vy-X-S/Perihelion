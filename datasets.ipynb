{
 "cells": [
  {
   "cell_type": "code",
   "execution_count": 1,
   "metadata": {},
   "outputs": [],
   "source": [
    "import pandas as pd"
   ]
  },
  {
   "cell_type": "code",
   "execution_count": 2,
   "metadata": {},
   "outputs": [],
   "source": [
    "import pandas as pd\n",
    "import json\n",
    "\n",
    "# Define the number of lines you want to read\n",
    "number_of_lines = 10000\n",
    "\n",
    "# Define the path to your JSON Lines file\n",
    "file_path = 'dataset/grocery_fixed.jsonl'\n",
    "\n",
    "# Read the specified number of lines from the file\n",
    "with open(file_path) as file:\n",
    "    lines = [json.loads(next(file)) for _ in range(number_of_lines)]\n",
    "\n",
    "# Convert the list of JSON objects to a DataFrame\n",
    "data = pd.DataFrame(lines)\n"
   ]
  },
  {
   "cell_type": "code",
   "execution_count": 3,
   "metadata": {},
   "outputs": [
    {
     "data": {
      "text/plain": [
       "Index(['rating', 'title', 'text', 'images', 'asin', 'parent_asin', 'user_id',\n",
       "       'timestamp', 'helpful_vote', 'verified_purchase'],\n",
       "      dtype='object')"
      ]
     },
     "execution_count": 3,
     "metadata": {},
     "output_type": "execute_result"
    }
   ],
   "source": [
    "data.columns"
   ]
  },
  {
   "cell_type": "code",
   "execution_count": 4,
   "metadata": {},
   "outputs": [],
   "source": [
    "filtered_data = data.loc[data[\"asin\"] == \"B079TSJ1TF\"]"
   ]
  },
  {
   "cell_type": "code",
   "execution_count": 5,
   "metadata": {},
   "outputs": [
    {
     "data": {
      "text/plain": [
       "\"These are so soft and chewy and vanilla tasting. You need to try these. We will be buying again and again.DeliciousYes they would make a lovely gift if you can give them away.  I ate themBest of the best!!These are awesome!  5 out 5 stars!  I cut them up & put them in homemade ice cream!  I melt them into my hot chocolate or coffee.I love everything about these caramels!  I love them so much Im on my 5th order, they melt in my mouth...Super tasty!  Like homemade<br />Vanilla was Better that the regularbought as a gift, they said they were tasty. Very giftableThese are, by far, the BEST caramels I have ever bought!!  They are soft, creamy and delicious!!  The ONLY negative thing I can say is that when I ordered 4 jars of these caramels, in the top quarter of two of the jars the caramels were half melted.  But, I believe they could have melted when they were in route to my house.<br /><br />If you are thinking about buying these, DO IT!  You will NOT regret it!! 👍🏼👍🏼Taste terrible. Like eatin warm jelloBest caramel I have ever had.  Very soft and chewy.  Expensive, but well worth it.  Quite gooey, but don't seem to stick to your dental work too much.  They are wax paper wrapped, so they don't stick to the wrapper either.  When you want a premium caramel, you owe it to yourself to give these a try; be careful, as they are addicting.These were the best caramels I have ever eaten!I like this caramel a lot.I would buy it again.Has corn syrup and doesn't state it anywhere before you buy it!!Yum yum,I'm addict of these...their that great.Package came very timely (Prime), wrapped well, right to the door. Caramels were soft and creamy , just as hoped and expected. Purchased again as they are already all gone in only three days.A delicious Carmel Holiday treat. TXthese are perfect for gifting, especially to that one friend (we all have one) who actually does not like chocolate.  These vanilla caramels are soft and chewy and delish and the container is the perfect size for gifting.Soft and flavor in each chew.This candy was found for the first time at some overstock store in the snack aisle. Hooked on it, I ordered a container, or 3...on here and love this product as a Gift and snack. Refrigerated is best as this is a VERY SOFT CARAMEL and in the warm climates it's just messy on the wax paper, but still the BEST for packaging (less is more) and recyclable bin for pens, crafts or paints...love this product and this company for it's TOP NOTCH PRODUCT!<br /><br />got one where it was all buttery on the outside of the wraps of each candy but I do live in a hot climate, so I'm sure it was a fluke...ordered again and not a problem...TRULY LOVE THESE CARAMELS!  no one does caramel as well!If it’s vanilla-flavored, count me in!  TARA’S ORIGINAL MADAGASCAR VANILLA CARAMELS (11.5 Ounce) are soft, mildly flavored, melt-in-your-mouth caramels with added Madagascar vanilla.  (Madagascar vanilla is what you usually get in bottled vanilla extract.  Many (including myself) think that Mexican vanilla tastes even better, but it’s expensive, and you need to buy it from a trusted source to avoid counterfeit, often toxic, products.)<br /><br />I wish that the flavor were a little stronger, to give the caramels a little more character.  The texture is nice and smooth.  Each caramel has only 43 calories, so one of them is an almost guilt-free snack.  Another thing that I like about these caramels is that they are individually wrapped in waxed paper, not plastic.The caramel was not like any store bought I have ever tasted. This is a treat.\""
      ]
     },
     "execution_count": 5,
     "metadata": {},
     "output_type": "execute_result"
    }
   ],
   "source": [
    "FULL_TEXT = \"\"\n",
    "\n",
    "for review in filtered_data[\"text\"]:\n",
    "    FULL_TEXT += review\n",
    "\n",
    "FULL_TEXT"
   ]
  },
  {
   "cell_type": "code",
   "execution_count": 6,
   "metadata": {},
   "outputs": [
    {
     "data": {
      "text/plain": [
       "parent_asin\n",
       "B079TRNVHX    1045\n",
       "B079TSJ1TF      22\n",
       "B079V3BX9N      16\n",
       "B08GMBB5N5      15\n",
       "B0BJ5W3R8H      15\n",
       "              ... \n",
       "B08RCT99M1       1\n",
       "B08T5PMP49       1\n",
       "B08SR8KC28       1\n",
       "B08NZ9CQBQ       1\n",
       "B0BLV11697       1\n",
       "Name: count, Length: 7079, dtype: int64"
      ]
     },
     "execution_count": 6,
     "metadata": {},
     "output_type": "execute_result"
    }
   ],
   "source": [
    "data[\"parent_asin\"].value_counts()"
   ]
  },
  {
   "cell_type": "code",
   "execution_count": 8,
   "metadata": {},
   "outputs": [
    {
     "name": "stderr",
     "output_type": "stream",
     "text": [
      "All PyTorch model weights were used when initializing TFBartForConditionalGeneration.\n",
      "\n",
      "All the weights of TFBartForConditionalGeneration were initialized from the PyTorch model.\n",
      "If your task is similar to the task the model of the checkpoint was trained on, you can already use TFBartForConditionalGeneration for predictions without further training.\n"
     ]
    },
    {
     "name": "stdout",
     "output_type": "stream",
     "text": [
      "[{'summary_text': 'These are the best caramels I have ever had. Expensive, but well worth it. They are soft and chewy and delish and the container is the perfect size for gifting. Each caramel has only 43 calories so one of them is an almost guilt-free snack.'}]\n"
     ]
    }
   ],
   "source": [
    "from transformers import pipeline\n",
    "\n",
    "summarizer = pipeline(\"summarization\", model=\"facebook/bart-large-cnn\", framework=\"tf\")\n",
    "print(summarizer(FULL_TEXT))"
   ]
  }
 ],
 "metadata": {
  "kernelspec": {
   "display_name": "Python 3",
   "language": "python",
   "name": "python3"
  },
  "language_info": {
   "codemirror_mode": {
    "name": "ipython",
    "version": 3
   },
   "file_extension": ".py",
   "mimetype": "text/x-python",
   "name": "python",
   "nbconvert_exporter": "python",
   "pygments_lexer": "ipython3",
   "version": "3.10.7"
  }
 },
 "nbformat": 4,
 "nbformat_minor": 2
}
